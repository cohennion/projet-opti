{
 "cells": [
  {
   "cell_type": "markdown",
   "metadata": {},
   "source": [
    "# Projet Optimisation Groupe 6\n",
    "### Hennion Corentin & Bourdin Mathis\n",
    "Dans cette deuxième partie nous étuidierons plus spécifiquement le problème trouvé dans la première partie et proposerons une résolution numérique de ce dernier"
   ]
  },
  {
   "cell_type": "markdown",
   "metadata": {},
   "source": [
    "#### 1er Question : Etude"
   ]
  },
  {
   "cell_type": "markdown",
   "metadata": {},
   "source": [
    "Le problème établi en partie 1 $\\max_{Cp\\leq d} \\frac{1}{2}p^TAp - b^Tp$ revient à résoudre le problème de minimisation sous contraintes $\\min_{Cp\\leq d} \\frac{1}{2}p^TAp - b^Tp$.\n",
    "\n",
    "Posons $f(p) = \\frac{1}{2} p^TAp - b^Tp$ la fonction à minimiser sous la contrainte $c(p) = c^Tp - d$.\n",
    "\n",
    "La fonction f est deux fois différentiable puisque c'est une fonction quadratique :\n",
    "\n",
    "Le gradient est obtenu aidément grace au caractère symétrique de A :$\\nabla f(p) = \\frac{A+A^T}{2} p - b = Ap - b$.\n",
    "\n",
    "$\\nabla^2 f(p) = A > 0$ car A est symétrique définie positive, donc f est convexe.\n",
    "\n",
    "Par ailleurs, la contrainte est affine.\n",
    "\n",
    "Pour montrer l'existence et l'unicité de la solution du problème, montrons que f est fortement convexe :\n",
    "\n",
    "Soient x et y deux vecteurs de $R^4_+$,\n",
    "\n",
    "\\begin{equation*}\n",
    "\\begin{aligned}\n",
    "(\\nabla f(x)^T - \\nabla f(y)^T)(x - y) &= (x^TA^T - y^TA^T)(x-y)\\\\\n",
    "\t\t\t\t\t\t\t\t&= (x - y)^T A (x - y)\\\\\n",
    "\t\t\t\t\t\t\t\t&\\geq || A || . || x - y ||^2\\\\\n",
    "\\end{aligned}\n",
    "\\end{equation*}\t\t\t\t\t\t\t\t\n",
    "Donc f est fortement convexe sur un domaine convexe, donc il existe une unique solution au problème de minimisation."
   ]
  },
  {
   "cell_type": "markdown",
   "metadata": {},
   "source": [
    "#### 2e Question : Resolution numérique"
   ]
  },
  {
   "cell_type": "markdown",
   "metadata": {},
   "source": [
    "Nous commencons par importer les biblihoteques nécessaires à la résolution et à la déclaration des constantes du problèmes, cest à dire les matrices et fonctions nécessaires. "
   ]
  },
  {
   "cell_type": "code",
   "execution_count": 2,
   "metadata": {},
   "outputs": [],
   "source": [
    "import numpy as np #Pour le calcul matriciel\n",
    "import matplotlib.pyplot as plt #Pour l'affichage des résultats\n",
    "from time import time #Pour mesurer le temps d'éxécution"
   ]
  },
  {
   "cell_type": "code",
   "execution_count": 3,
   "metadata": {},
   "outputs": [],
   "source": [
    "def timeit(func):\n",
    "    def new_func(*args, **kwargs):\n",
    "        init_time = time()\n",
    "        res = func(*args, **kwargs)\n",
    "        print(\"{0:10s} : {1:5f}s.\".format(func.__name__, time()-init_time))\n",
    "        return res\n",
    "    return new_func\n",
    "#Ce décorateur sert à mesurer le temps d'éxécution de la résoltuion.\n",
    "\n",
    "A = np.array([[3.0825,0    ,0     ,0     ],\n",
    "              [0     ,.0405,0     ,0     ],\n",
    "              [0     ,0    ,.0271 ,-.0031],\n",
    "              [0     ,0    ,-.0031,.0054 ]], dtype=\"float32\").T\n",
    "#On déclare ici A.T pour avoir l'exact A du problème par rigueur.\n",
    "#Cela n'a aucune influence sur le problème puisque A est symétrique\n",
    "\n",
    "b = np.array([2671,135,103,19], dtype=\"float32\")\n",
    "\n",
    "C = np.array([[-.0401,-.0162,-.0039,.0002 ],\n",
    "              [-.1326,-.0004,-.0034,.0006 ],\n",
    "              [1.5413,0     ,0     ,0     ],\n",
    "              [0     ,.0203 ,0     ,0     ],\n",
    "              [0     ,0     ,.0136 ,-.0015],\n",
    "              [0     ,0     ,-.0016,.0027 ],\n",
    "              [.0160 ,.0004 ,.0005 ,.0002 ]], dtype=\"float32\")\n",
    "\n",
    "d = np.array([-92.6,-29,2671,135,103,19,10], dtype=\"float32\")\n",
    "\n",
    "def f(x):\n",
    "    return -(b@x-0.5*x@A@x)\n",
    "\n",
    "def df(x):\n",
    "    return A@x-b\n",
    "\n",
    "def c(x):\n",
    "    return C@x-d\n",
    "\n",
    "def dc(x):\n",
    "    return C"
   ]
  },
  {
   "cell_type": "markdown",
   "metadata": {},
   "source": [
    "Afin de résoudre ce problème, nous avons commencé par utiliser l'algorithme d'Arrow-Hurwicz puisque celui ci est simple à mettre en place et est léger en calcul par itération. Ensuite en fonction des résultats nous aviserons sur un éventuel passage sur un nouvel algorithme plus performant. Mais si celui-ci donne de bons résultats, il serait inutile de changer d'algorithme.\n",
    "\n",
    "Nous déclarons donc dans un premier temps les hyper-paramètres de cet algorithme :"
   ]
  },
  {
   "cell_type": "code",
   "execution_count": 4,
   "metadata": {},
   "outputs": [],
   "source": [
    "x0 = np.array([2055,54,63,17])\n",
    "#Celui-ci peut être pris aléatoirement mais l'approximation de l'année connue est un heuristique que nous imaginons acceptable. \n",
    "#Cela devrait permettre d'économiser quelques itérations.\n",
    "\n",
    "lambd0 = np.random.rand(7) \n",
    "#Lambda est lui pris purement aléatoirement, nos tests n'ont pas montré d'influence sur la convergence si on change sa valeur.\n",
    "\n",
    "eps = .1\n",
    "alpha = .1\n",
    "#Pour alpha et epsilon, les valeurs prises sont celles qui semblait usuellement utilisées.\n",
    "#Changer leur valeurs n'as pas l'air d'influer grandement al convergence\n",
    "\n",
    "diff = 1 #Ecart entre les xk\n",
    "ite = 0 #Nombre d'itérations\n",
    "acc = 1e-5 #Estimateur de la precision"
   ]
  },
  {
   "cell_type": "code",
   "execution_count": null,
   "metadata": {},
   "outputs": [],
   "source": [
    "@timeit\n",
    "def resolve():\n",
    "    global x0, lambd0, diff, ite\n",
    "    diffs = [diff]\n",
    "    diffs_iter = [0]\n",
    "    while diff > acc:\n",
    "        xk     = x0 - eps*(df(x0) + dc(x0).T@lambd0)\n",
    "        lambdk = lambd0+alpha*c(xk)\n",
    "        lambdk = np.where(lambdk>=0, lambdk, 0)\n",
    "        diff = np.linalg.norm(xk-x0)\n",
    "        x0, lambd0 = xk, lambdk\n",
    "        ite += 1\n",
    "        if diff<diffs[-1]/2:\n",
    "            diffs.append(diff)\n",
    "            diffs_iter.append(ite)\n",
    "        \n",
    "    fig, ax = plt.subplots()\n",
    "    ax.scatter(diffs, diffs_iter)\n",
    "    ax.set_title(\"Nombre d'iterations en fonction du pas de déplacement\")\n",
    "    print(\"Solution à {} itérations : {}.\".format(ite,xk))\n",
    "    \n",
    "resolve()"
   ]
  },
  {
   "cell_type": "markdown",
   "metadata": {},
   "source": [
    "On observe immédatiement que le nombre d'itération explose avec le précision du pas de déplacement. Atteindre le million d'itérations pour un pas de déplacement de 1e-5 c'est très élevé. Cependant, les itérations ne possèdent que peu de calculs donc cela se calcule relativement vite (20s sur l'ordinateur utilisé). On peut penser que cela vient de la grande hétérogénéité dans les ordres de grandeurs des poids des matrices.\n",
    "Cet algorithme est donc pertinent dans notre cas si nous ne désirons pas d'une précision immense sur notre solution, cela nous couterait trop en nombre d'itérations. Afin d'avoir une précision plus élevée on pourrait imaginer un algorithme avec un pas variable plus poussé."
   ]
  },
  {
   "cell_type": "markdown",
   "metadata": {},
   "source": [
    "Pour le résultat on observe que le prix du lait chute tandis que celui des autres produits explose.\n",
    "En quantité nous obtenons (Calcul fait à partir des relations obtenues par le tableau I):\n",
    "x1 = 2023 ;\n",
    "x2 = 53 ;\n",
    "x3 = 67 ;\n",
    "x4 = 20.\n",
    "On remarque également de grandes différences sur les quantités. L'interpretation la plus évidente est donc que le gouvernement devrait se focaliser sur la vente de lait en réduisant fortement celle des autres, c'est ce produit qui rapporte le plus."
   ]
  },
  {
   "cell_type": "code",
   "execution_count": null,
   "metadata": {},
   "outputs": [],
   "source": []
  }
 ],
 "metadata": {
  "kernelspec": {
   "display_name": "Python 3",
   "language": "python",
   "name": "python3"
  },
  "language_info": {
   "codemirror_mode": {
    "name": "ipython",
    "version": 3
   },
   "file_extension": ".py",
   "mimetype": "text/x-python",
   "name": "python",
   "nbconvert_exporter": "python",
   "pygments_lexer": "ipython3",
   "version": "3.7.4"
  }
 },
 "nbformat": 4,
 "nbformat_minor": 2
}
