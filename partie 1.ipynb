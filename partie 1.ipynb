{
 "cells": [
  {
   "cell_type": "markdown",
   "metadata": {},
   "source": [
    "PARTIE 1"
   ]
  },
  {
   "cell_type": "markdown",
   "metadata": {},
   "source": [
    "Question 1"
   ]
  },
  {
   "cell_type": "markdown",
   "metadata": {},
   "source": [
    "Notons i dans {l ; b ; g  ; e} l'indice désignant le produit. L'élasticité prix donne 4 relations :\n",
    "\n",
    "\\begin{equation} \n",
    "\\varepsilon_{i}=\\frac{\\frac{d x_{i}}{x_{i}}}{\\frac{d p_{i}}{p_{i}}}\n",
    "\\end{equation}\n",
    "\n",
    "avec $x_{i}$ la quantité produite de i et $p_{i}$ son prix.\n",
    "\n",
    "L'elastiité prix croisée entre le gouda et l'edam donne 2 autres équations :\n",
    "\n",
    "\\begin{equation}\n",
    "\\begin{array}{l}\n",
    "-\\varepsilon_{g e} d p_{e}=d x_{g} \\\\\n",
    "-\\varepsilon_{g e} d p_{g}=d x_{e}\n",
    "\\end{array}\n",
    "\\end{equation}\n",
    "\n",
    "Elles traduisent le fait que si le prix du Gouda augmente de 1%, la consommation d'edam diminue de $\\epsilon_{g e}\\$% et inversement.\n"
   ]
  },
  {
   "cell_type": "markdown",
   "metadata": {},
   "source": [
    "Question 2 et 3"
   ]
  },
  {
   "cell_type": "markdown",
   "metadata": {},
   "source": [
    "Notons $t_{i}^{m}$ la teneur en matière grasse de i et $t_{i}^{l}$ sa teneur en lactose.\n",
    "La quantité de lactose et de matière grasse présente dans les produits finaux sont inférieures à la quantité initilement présente dans le lait utlisé pour la production.\n",
    "\n",
    "\\begin{equation}\n",
    "\\begin{array}{l}\n",
    "\\sum x_{i} t_{mi}^{m} \\leqslant\\left(\\sum x_{i}\\right) t_{l}^{m} \\\\\n",
    "\\sum x_{i} t_{i}^{p} \\leqslant\\left(\\sum x_{i}\\right) t_{l}^{p}\n",
    "\\end{array}\n",
    "\\end{equation}"
   ]
  },
  {
   "cell_type": "markdown",
   "metadata": {},
   "source": [
    "Question 4"
   ]
  },
  {
   "cell_type": "markdown",
   "metadata": {},
   "source": [
    "La contrainte sur la moyenne de la variation relative des prix est\n",
    "\n",
    "\\begin{equation}\n",
    "\\sum \\frac{x_{i}}{\\sum x_{i}} \\frac{d p_{i}}{p_{i}}<0\n",
    "\\end{equation}\n",
    "\n",
    "Or d'après 1,\n",
    "\n",
    "\\begin{equation}\n",
    "x_{i} \\cdot \\frac{d p_{i}}{p_{i}}=\\frac{d x_{i}}{\\varepsilon_{i}}\n",
    "\\end{equation}\n",
    "\n",
    "Donc la contrainte se simplifie en\n",
    "\n",
    "\\begin{equation}\n",
    "\\sum \\frac{d x_{i}}{\\varepsilon_{i}}<0\n",
    "\\end{equation}\n",
    "\n",
    "ce qui permet d'éliminer les variables de prix dans cette contrainte."
   ]
  },
  {
   "cell_type": "code",
   "execution_count": null,
   "metadata": {},
   "outputs": [],
   "source": []
  }
 ],
 "metadata": {
  "kernelspec": {
   "display_name": "Python 3",
   "language": "python",
   "name": "python3"
  },
  "language_info": {
   "codemirror_mode": {
    "name": "ipython",
    "version": 3
   },
   "file_extension": ".py",
   "mimetype": "text/x-python",
   "name": "python",
   "nbconvert_exporter": "python",
   "pygments_lexer": "ipython3",
   "version": "3.7.4"
  }
 },
 "nbformat": 4,
 "nbformat_minor": 2
}
