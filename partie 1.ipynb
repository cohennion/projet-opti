{
 "cells": [
  {
   "cell_type": "markdown",
   "metadata": {},
   "source": [
    "# Projet Optimisation Groupe 6\n",
    "### Hennion Corentin & Bourdin Mathis \n",
    "\n",
    "L'objectif de ce projet est de maximiser les profits dérivés du lait en hollande en optimisant leur production. \n",
    "Dans cette première partie nous chercherons à établir les contraintes régissant ce problème afin de pouvoir le poser mathématiquement."
   ]
  },
  {
   "cell_type": "markdown",
   "metadata": {},
   "source": [
    "#### Question 1"
   ]
  },
  {
   "cell_type": "markdown",
   "metadata": {},
   "source": [
    "Notons i dans {l ; b ; g  ; e} l'indice désignant le produit. L'élasticité prix donne 4 relations :\n",
    "\n",
    "\\begin{equation} \n",
    "\\varepsilon_{i}=\\frac{\\frac{d x_{i}}{x_{i}}}{\\frac{d p_{i}}{p_{i}}}\n",
    "\\end{equation}\n",
    "\n",
    "avec $x_{i}$ la quantité produite de i et $p_{i}$ son prix.\n",
    "\n",
    "L'elastiité prix croisée entre le gouda et l'edam donne 2 autres équations :\n",
    "\n",
    "\\begin{equation}\n",
    "\\begin{array}{l}\n",
    "-\\varepsilon_{g e} d p_{e}=d x_{g} \\\\\n",
    "-\\varepsilon_{g e} d p_{g}=d x_{e}\n",
    "\\end{array}\n",
    "\\end{equation}\n",
    "\n",
    "Elles traduisent le fait que si le prix du Gouda augmente de 1%, la consommation d'edam diminue de $\\epsilon_{g e}\\$% et inversement.\n"
   ]
  },
  {
   "cell_type": "markdown",
   "metadata": {},
   "source": [
    "#### Question 2 et 3"
   ]
  },
  {
   "cell_type": "markdown",
   "metadata": {},
   "source": [
    "Notons $t_{i}^{m}$ la teneur en matière grasse de i et $t_{i}^{l}$ sa teneur en lactose.\n",
    "La quantité de lactose et de matière grasse présente dans les produits finaux sont inférieures à la quantité initilement présente dans le lait utlisé pour la production.\n",
    "\n",
    "\\begin{equation}\n",
    "\\begin{array}{l}\n",
    "\\sum x_{i} t_{mi}^{m} \\leqslant\\left(\\sum x_{i}\\right) t_{l}^{m} \\\\\n",
    "\\sum x_{i} t_{i}^{p} \\leqslant\\left(\\sum x_{i}\\right) t_{l}^{p}\n",
    "\\end{array}\n",
    "\\end{equation}"
   ]
  },
  {
   "cell_type": "markdown",
   "metadata": {},
   "source": [
    "#### Question 4"
   ]
  },
  {
   "cell_type": "markdown",
   "metadata": {},
   "source": [
    "La contrainte sur la moyenne de la variation relative des prix est\n",
    "\n",
    "\\begin{equation}\n",
    "\\sum \\frac{x_{i}}{\\sum x_{i}} \\frac{d p_{i}}{p_{i}}<0\n",
    "\\end{equation}\n",
    "\n",
    "Or d'après 1,\n",
    "\n",
    "\\begin{equation}\n",
    "x_{i} \\cdot \\frac{d p_{i}}{p_{i}}=\\frac{d x_{i}}{\\varepsilon_{i}}\n",
    "\\end{equation}\n",
    "\n",
    "Donc la contrainte se simplifie en\n",
    "\n",
    "\\begin{equation}\n",
    "\\sum \\frac{d x_{i}}{\\varepsilon_{i}}<0\n",
    "\\end{equation}\n",
    "\n",
    "ce qui permet d'éliminer les variables de prix dans cette contrainte."
   ]
  },
  {
   "cell_type": "markdown",
   "metadata": {},
   "source": [
    "#### Question 5"
   ]
  },
  {
   "cell_type": "markdown",
   "metadata": {},
   "source": [
    "Afin de formuler ce problème comme un plroblème d'optimisation il nous manque encore des contraintes à poser, la positivité de la production.\n",
    "\n",
    "En effet, cette contrainte est indispensable pour obtenir un problème reflétant la réalité, on ne peut avoir une production négative ce qui intuitivement permettrait un bénéfice infini.\n",
    "\n",
    "La positivité du prix n'est revanche pas nécessaire. Elle est possible (si on offre de l'argent pour un produit) et est un cas qui ne devrait pas se produire dans la résolution du problème. Inclure la posivité du prix rajouterait donc inutilemnt des contraites.\n",
    "\n",
    "Nous pouvons donc poser notre problème comme un problème d'optimisation de la variable représentant la production:\n",
    "\\begin{equation}\n",
    "(x_{l}, x_{b}, x_{g}, x_{e})  \\in \\mathbb{R}^{4}\n",
    "\\end{equation}\n",
    "\n",
    "Nous chercherons à miniser la fonction -f.\n",
    "f représentant les profits par la vente de produits dérivés du lait :\n",
    "\n",
    "\\begin{array}{ccccc}\n",
    "f & : & \\mathbb{R}^{4} & \\to & \\mathbb{R} \\\\\n",
    " & & (x_{l}, x_{b}, x_{g}, x_{e}) & \\mapsto & \\sum x_{i}p_{i} \\\\\n",
    "\\end{array}\n",
    "\n",
    "Connaissant les prix et quantités de l'année n, nous cherchons à optimiser les prix pour l'année n+1 sous la contrainte :\n",
    "\n",
    "\\begin{equation}\n",
    "C(x) = \\begin{pmatrix}\n",
    " x_{l} \\geq 0 \\\\ \n",
    " x_{b} \\geq 0 \\\\ \n",
    " x_{g} \\geq 0 \\\\ \n",
    " x_{e} \\geq 0 \\\\\n",
    " \\sum x_{i} t_{mi}^{m} \\leqslant\\left(\\sum x_{i}\\right) t_{l}^{m} \\\\\n",
    " \\sum x_{i} t_{i}^{p} \\leqslant\\left(\\sum x_{i}\\right) t_{l}^{p} \\\\\n",
    " \\sum \\frac{x_{i,n+1} - x_{i,n}}{\\varepsilon_{i}}<0\n",
    " \\end{pmatrix} \n",
    "\\end{equation}"
   ]
  },
  {
   "cell_type": "code",
   "execution_count": null,
   "metadata": {},
   "outputs": [],
   "source": []
  }
 ],
 "metadata": {
  "kernelspec": {
   "display_name": "Python 3",
   "language": "python",
   "name": "python3"
  },
  "language_info": {
   "codemirror_mode": {
    "name": "ipython",
    "version": 3
   },
   "file_extension": ".py",
   "mimetype": "text/x-python",
   "name": "python",
   "nbconvert_exporter": "python",
   "pygments_lexer": "ipython3",
   "version": "3.7.3"
  }
 },
 "nbformat": 4,
 "nbformat_minor": 2
}
